{
 "cells": [
  {
   "cell_type": "markdown",
   "metadata": {},
   "source": [
    "# Analysis of Reversi Data"
   ]
  },
  {
   "cell_type": "code",
   "execution_count": null,
   "metadata": {},
   "outputs": [],
   "source": [
    "import struct\n",
    "import glob\n",
    "from typing import List, Tuple, Dict"
   ]
  },
  {
   "cell_type": "code",
   "execution_count": null,
   "metadata": {},
   "outputs": [],
   "source": [
    "NUM_OF_READ = 20\n",
    "CUT_THRESHOLD = 50"
   ]
  },
  {
   "cell_type": "code",
   "execution_count": null,
   "metadata": {},
   "outputs": [],
   "source": [
    "def load_wtb_file(name: str) -> List[Tuple[int, List[Tuple[int]]]]:\n",
    "    with open(name, \"rb\") as file:\n",
    "        headers = file.read(16)\n",
    "        (year1, year2, month, day, record_num, _, year, size, record_type, depth, _) = struct.unpack(\"BBBBIHHBBBB\", headers)\n",
    "\n",
    "        record = []\n",
    "        for _ in range(record_num):\n",
    "            (contest_id, black_id, white_id, black_num, black_best) = struct.unpack(\"HHHBB\", file.read(8))\n",
    "            data = []\n",
    "            for _ in range(60):\n",
    "                data.append(struct.unpack(\"B\", file.read(1))[0])\n",
    "            record.append((black_best, data))\n",
    "        return record"
   ]
  },
  {
   "cell_type": "code",
   "execution_count": null,
   "metadata": {},
   "outputs": [],
   "source": [
    "data = []\n",
    "for file in glob.glob(\"./data/*.wtb\"):\n",
    "    data += load_wtb_file(file)"
   ]
  },
  {
   "cell_type": "code",
   "execution_count": null,
   "metadata": {},
   "outputs": [],
   "source": [
    "def concat_moves(moves: List[int]) -> str:\n",
    "    return \",\".join(map(str, moves))\n",
    "\n",
    "def split_moves(moves: str) -> List[int]:\n",
    "    return list(map(int, moves.split(\",\")))"
   ]
  },
  {
   "cell_type": "code",
   "execution_count": null,
   "metadata": {},
   "outputs": [],
   "source": [
    "assert split_moves(concat_moves([1, 2, 3])) == [1, 2, 3]"
   ]
  },
  {
   "cell_type": "code",
   "execution_count": null,
   "metadata": {},
   "outputs": [],
   "source": [
    "Data = Dict[Tuple[int, str], Dict[int, Tuple[int, float]]]"
   ]
  },
  {
   "cell_type": "code",
   "execution_count": null,
   "metadata": {},
   "outputs": [],
   "source": [
    "move_lists: Data = { }\n",
    "for i in range(1, NUM_OF_READ):\n",
    "    for (best, move) in data:\n",
    "        key = i, concat_moves(move[0:i])\n",
    "        if key not in move_lists:\n",
    "            move_lists[key] = { }\n",
    "        if move[i] in move_lists[key]:\n",
    "            (count, score) = move_lists[key][move[i]]\n",
    "            move_lists[key][move[i]] = (count + 1, score + best)\n",
    "        else:\n",
    "            move_lists[key][move[i]] = (1, best)"
   ]
  },
  {
   "cell_type": "code",
   "execution_count": null,
   "metadata": {},
   "outputs": [],
   "source": [
    "move_lists"
   ]
  },
  {
   "cell_type": "code",
   "execution_count": null,
   "metadata": {},
   "outputs": [],
   "source": [
    "for num, move in move_lists.keys():\n",
    "    for m in move_lists[num, move].keys():\n",
    "        (count, score) = move_lists[num, move][m]\n",
    "        move_lists[num, move][m] = (count, score / count)"
   ]
  },
  {
   "cell_type": "code",
   "execution_count": null,
   "metadata": {},
   "outputs": [],
   "source": [
    "move_lists"
   ]
  },
  {
   "cell_type": "code",
   "execution_count": null,
   "metadata": {},
   "outputs": [],
   "source": [
    "move_table = {}\n",
    "for num, move in move_lists.keys():\n",
    "    is_black = num % 2 == 0\n",
    "    best_move = 0\n",
    "    best_score = -1000 if is_black else 1000\n",
    "    appeard = 0\n",
    "\n",
    "    for m in move_lists[num, move].keys():\n",
    "        (count, score) = move_lists[num, move][m]\n",
    "        appeard += count\n",
    "        if is_black:\n",
    "            if score  > best_score:\n",
    "                best_score = score\n",
    "                best_move = m\n",
    "        else:\n",
    "            if score < best_score:\n",
    "                best_score = score\n",
    "                best_move = m\n",
    "\n",
    "    if appeard >= CUT_THRESHOLD:\n",
    "        move_table[num, move] = best_move"
   ]
  },
  {
   "cell_type": "code",
   "execution_count": null,
   "metadata": {},
   "outputs": [],
   "source": [
    "move_table"
   ]
  },
  {
   "cell_type": "markdown",
   "metadata": {},
   "source": [
    "In the original data, the first move is fixed to `56`. We are going to flip boards to make it easy to search a best move."
   ]
  },
  {
   "cell_type": "code",
   "execution_count": null,
   "metadata": {},
   "outputs": [],
   "source": [
    "move_table_complete = { }\n",
    "for num, move in move_table.keys():\n",
    "    moves = split_moves(move)\n",
    "    best_move = move_table[(num, move)]\n",
    "\n",
    "    move_table_complete[(num, move)] = best_move\n",
    "\n",
    "    def flip1(x: int) -> int:\n",
    "        return (x % 10) * 10 + (x // 10)\n",
    "    def flip2(x: int) -> int:\n",
    "        return (9 - x // 10) * 10 + (9 - x % 10)\n",
    "    def flip3(x: int) -> int:\n",
    "        return flip2(flip1(x))\n",
    "\n",
    "    move_table_complete[(num, concat_moves(list(map(flip1, moves))))] = flip1(best_move)\n",
    "    move_table_complete[(num, concat_moves(list(map(flip2, moves))))] = flip2(best_move)\n",
    "    move_table_complete[(num, concat_moves(list(map(flip3, moves))))] = flip3(best_move)"
   ]
  },
  {
   "cell_type": "code",
   "execution_count": null,
   "metadata": {},
   "outputs": [],
   "source": [
    "move_table_complete"
   ]
  },
  {
   "cell_type": "code",
   "execution_count": null,
   "metadata": {},
   "outputs": [],
   "source": [
    "with open(\"preprocessed.txt\", \"w\") as file:\n",
    "    for key in move_table_complete.keys():\n",
    "        for move in split_moves(key[1]):\n",
    "            pos = chr(ord('A') + move // 10 - 1) + str(move % 10)\n",
    "            file.write(f\"{pos}\")\n",
    "        move = move_table_complete[key]\n",
    "        pos = chr(ord('A') + move // 10 - 1) + str(move % 10)\n",
    "        file.write(f\" {pos}\\n\")"
   ]
  }
 ],
 "metadata": {
  "kernelspec": {
   "display_name": "Python 3",
   "language": "python",
   "name": "python3"
  },
  "language_info": {
   "codemirror_mode": {
    "name": "ipython",
    "version": 3
   },
   "file_extension": ".py",
   "mimetype": "text/x-python",
   "name": "python",
   "nbconvert_exporter": "python",
   "pygments_lexer": "ipython3",
   "version": "3.12.3"
  }
 },
 "nbformat": 4,
 "nbformat_minor": 2
}
